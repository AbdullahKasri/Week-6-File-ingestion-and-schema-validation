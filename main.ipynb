{
 "cells": [
  {
   "cell_type": "markdown",
   "source": [
    "# Importing necessary libraries"
   ],
   "metadata": {}
  },
  {
   "cell_type": "code",
   "execution_count": 2,
   "source": [
    "import logging\r\n",
    "import os\r\n",
    "import subprocess\r\n",
    "import yaml\r\n",
    "import pandas as pd\r\n",
    "import datetime \r\n",
    "import gc\r\n",
    "import re\r\n",
    "import testutility as util"
   ],
   "outputs": [],
   "metadata": {}
  },
  {
   "cell_type": "markdown",
   "source": [
    "# Reading the dataset... "
   ],
   "metadata": {}
  },
  {
   "cell_type": "code",
   "execution_count": 2,
   "source": [
    "def read_config_file(filepath):\r\n",
    "    with open(filepath, 'r') as stream:\r\n",
    "        try:\r\n",
    "            return yaml.safe_load(stream)\r\n",
    "        except yaml.YAMLError as exc:\r\n",
    "            logging.error(exc)"
   ],
   "outputs": [],
   "metadata": {}
  },
  {
   "cell_type": "code",
   "execution_count": 3,
   "source": [
    "def replacer(string, char):\r\n",
    "    pattern = char + '{2,}'\r\n",
    "    string = re.sub(pattern, char, string) \r\n",
    "    return string"
   ],
   "outputs": [],
   "metadata": {}
  },
  {
   "cell_type": "code",
   "execution_count": 4,
   "source": [
    "def col_header_val(df, table_config):\r\n",
    "    '''\r\n",
    "    replace whitespaces in the column\r\n",
    "    and standardized column names\r\n",
    "    '''\r\n",
    "    df.columns = df.columns.str.lower()\r\n",
    "    df.columns = df.columns.str.replace('[^\\w]', '_', regex = True)\r\n",
    "    df.columns = list(map(lambda x: x.strip('_'), list(df.columns)))\r\n",
    "    df.columns = list(map(lambda x: replacer(x, '_'), list(df.columns)))\r\n",
    "    expected_col = list(map(lambda x: x.lower(),  table_config['columns']))\r\n",
    "    expected_col.sort()\r\n",
    "    df.columns = list(map(lambda x: x.lower(), list(df.columns)))\r\n",
    "    df = df.reindex(sorted(df.columns), axis = 1)\r\n",
    "    if len(df.columns) == len(expected_col) and list(expected_col)  == list(df.columns):\r\n",
    "        print(\"column name and column length validation passed\")\r\n",
    "        return 1\r\n",
    "    else:\r\n",
    "        print(\"column name and column length validation failed\")\r\n",
    "        mismatched_columns_file = list(set(df.columns).difference(expected_col))\r\n",
    "        print(\"Following File columns are not in the YAML file\", mismatched_columns_file)\r\n",
    "        missing_YAML_file = list(set(expected_col).difference(df.columns))\r\n",
    "        print(\"Following YAML columns are not in the file uploaded\", missing_YAML_file)\r\n",
    "        logging.info(f'df columns: {df.columns}')\r\n",
    "        logging.info(f'expected columns: {expected_col}')\r\n",
    "        return 0"
   ],
   "outputs": [],
   "metadata": {}
  },
  {
   "cell_type": "markdown",
   "source": [
    "# Schema YAML file creation;"
   ],
   "metadata": {}
  },
  {
   "cell_type": "code",
   "execution_count": 26,
   "source": [
    "%%writefile file.yaml\r\n",
    "file_type: csv \r\n",
    "dataset_name: netflix movie history\r\n",
    "file_name: train\r\n",
    "table_name: watch records\r\n",
    "inbound_delimiter: \",\"\r\n",
    "outbound_delimiter: \"|\"\r\n",
    "skip_leading_rows: 1\r\n",
    "columns: \r\n",
    "    - movie\r\n",
    "    - user"
   ],
   "outputs": [
    {
     "output_type": "stream",
     "name": "stdout",
     "text": [
      "Overwriting file.yaml\n"
     ]
    }
   ],
   "metadata": {}
  },
  {
   "cell_type": "markdown",
   "source": [
    "# Configuration of the YAML file just created..."
   ],
   "metadata": {}
  },
  {
   "cell_type": "code",
   "execution_count": 27,
   "source": [
    "config_data = util.read_config_file(\"file.yaml\")"
   ],
   "outputs": [],
   "metadata": {}
  },
  {
   "cell_type": "code",
   "execution_count": 28,
   "source": [
    "config_data"
   ],
   "outputs": [
    {
     "output_type": "execute_result",
     "data": {
      "text/plain": [
       "{'file_type': 'csv',\n",
       " 'dataset_name': 'netflix movie history',\n",
       " 'file_name': 'train',\n",
       " 'table_name': 'watch records',\n",
       " 'inbound_delimiter': ',',\n",
       " 'outbound_delimiter': '|',\n",
       " 'skip_leading_rows': 1,\n",
       " 'columns': ['movie', 'user']}"
      ]
     },
     "metadata": {},
     "execution_count": 28
    }
   ],
   "metadata": {}
  },
  {
   "cell_type": "markdown",
   "source": [
    "# Displaying the original dataset..."
   ],
   "metadata": {}
  },
  {
   "cell_type": "code",
   "execution_count": 8,
   "source": [
    "df_sample = pd.read_csv(\"train.csv\", delimiter = ',')\r\n",
    "df_sample.head()"
   ],
   "outputs": [
    {
     "output_type": "execute_result",
     "data": {
      "text/html": [
       "<div>\n",
       "<style scoped>\n",
       "    .dataframe tbody tr th:only-of-type {\n",
       "        vertical-align: middle;\n",
       "    }\n",
       "\n",
       "    .dataframe tbody tr th {\n",
       "        vertical-align: top;\n",
       "    }\n",
       "\n",
       "    .dataframe thead th {\n",
       "        text-align: right;\n",
       "    }\n",
       "</style>\n",
       "<table border=\"1\" class=\"dataframe\">\n",
       "  <thead>\n",
       "    <tr style=\"text-align: right;\">\n",
       "      <th></th>\n",
       "      <th>movie</th>\n",
       "      <th>user</th>\n",
       "      <th>rating</th>\n",
       "      <th>date</th>\n",
       "    </tr>\n",
       "  </thead>\n",
       "  <tbody>\n",
       "    <tr>\n",
       "      <th>0</th>\n",
       "      <td>10341</td>\n",
       "      <td>510180</td>\n",
       "      <td>4</td>\n",
       "      <td>1999-11-11</td>\n",
       "    </tr>\n",
       "    <tr>\n",
       "      <th>1</th>\n",
       "      <td>1798</td>\n",
       "      <td>510180</td>\n",
       "      <td>5</td>\n",
       "      <td>1999-11-11</td>\n",
       "    </tr>\n",
       "    <tr>\n",
       "      <th>2</th>\n",
       "      <td>10774</td>\n",
       "      <td>510180</td>\n",
       "      <td>3</td>\n",
       "      <td>1999-11-11</td>\n",
       "    </tr>\n",
       "    <tr>\n",
       "      <th>3</th>\n",
       "      <td>8651</td>\n",
       "      <td>510180</td>\n",
       "      <td>2</td>\n",
       "      <td>1999-11-11</td>\n",
       "    </tr>\n",
       "    <tr>\n",
       "      <th>4</th>\n",
       "      <td>14660</td>\n",
       "      <td>510180</td>\n",
       "      <td>2</td>\n",
       "      <td>1999-11-11</td>\n",
       "    </tr>\n",
       "  </tbody>\n",
       "</table>\n",
       "</div>"
      ],
      "text/plain": [
       "   movie    user  rating        date\n",
       "0  10341  510180       4  1999-11-11\n",
       "1   1798  510180       5  1999-11-11\n",
       "2  10774  510180       3  1999-11-11\n",
       "3   8651  510180       2  1999-11-11\n",
       "4  14660  510180       2  1999-11-11"
      ]
     },
     "metadata": {},
     "execution_count": 8
    }
   ],
   "metadata": {}
  },
  {
   "cell_type": "markdown",
   "source": [
    "# Here's where we start making the first steps of validation between the two files (YAML & original dataset)."
   ],
   "metadata": {}
  },
  {
   "cell_type": "code",
   "execution_count": 29,
   "source": [
    "file_type = config_data['file_type']"
   ],
   "outputs": [],
   "metadata": {}
  },
  {
   "cell_type": "code",
   "execution_count": 30,
   "source": [
    "source_file = \" \" + config_data['file_name'] + f'.{file_type}'"
   ],
   "outputs": [],
   "metadata": {}
  },
  {
   "cell_type": "code",
   "execution_count": 31,
   "source": [
    "print(\"Netflix's movies watch history... \", source_file)"
   ],
   "outputs": [
    {
     "output_type": "stream",
     "name": "stdout",
     "text": [
      "Netflix's movies watch history...   train.csv\n"
     ]
    }
   ],
   "metadata": {}
  },
  {
   "cell_type": "markdown",
   "source": [
    "# Let's see which columns are avilable/missing from the original dataset;"
   ],
   "metadata": {}
  },
  {
   "cell_type": "code",
   "execution_count": 19,
   "source": [
    "util.col_header_val(df_sample, config_data)"
   ],
   "outputs": [
    {
     "output_type": "stream",
     "name": "stdout",
     "text": [
      "column name and column length validation failed\n",
      "Following File columns are not in the YAML file ['date', 'rating']\n",
      "Following YAML columns are not in the file uploaded []\n"
     ]
    },
    {
     "output_type": "execute_result",
     "data": {
      "text/plain": [
       "0"
      ]
     },
     "metadata": {},
     "execution_count": 19
    }
   ],
   "metadata": {}
  },
  {
   "cell_type": "code",
   "execution_count": 35,
   "source": [
    "print(\"columns of files are:\" ,df_sample.columns)\r\n",
    "print(\"columns of YAML are:\" ,config_data['columns'])"
   ],
   "outputs": [
    {
     "output_type": "stream",
     "name": "stdout",
     "text": [
      "columns of files are: Index(['movie', 'user', 'rating', 'date'], dtype='object')\n",
      "columns of YAML are: ['movie', 'user']\n"
     ]
    }
   ],
   "metadata": {}
  },
  {
   "cell_type": "markdown",
   "source": [
    "# From this, we clearly see that two columns are missing from the original data."
   ],
   "metadata": {}
  },
  {
   "cell_type": "code",
   "execution_count": 36,
   "source": [
    "if util.col_header_val(df_sample,config_data)==0:\r\n",
    "    print(\"validation failed\")\r\n",
    "else:\r\n",
    "    print(\"col validation passed\")"
   ],
   "outputs": [
    {
     "output_type": "stream",
     "name": "stdout",
     "text": [
      "column name and column length validation failed\n",
      "Following File columns are not in the YAML file ['date', 'rating']\n",
      "Following YAML columns are not in the file uploaded []\n",
      "validation failed\n"
     ]
    }
   ],
   "metadata": {}
  },
  {
   "cell_type": "markdown",
   "source": [
    "# And hence by, the validation command gets rejected."
   ],
   "metadata": {}
  },
  {
   "cell_type": "markdown",
   "source": [
    "# Summary;"
   ],
   "metadata": {}
  },
  {
   "cell_type": "markdown",
   "source": [
    "## dataset: Netflix's movies watch history.\r\n",
    "## file name: train.csv\r\n",
    "## file size = 2.088 GB\r\n",
    "## rows = ~2,000,000\r\n",
    "## columns = 4"
   ],
   "metadata": {}
  },
  {
   "cell_type": "markdown",
   "source": [
    "# Here, we acknowledge that the YAML file we've just created (file.yaml), does not validate with our original dataset (train.csv), because it misses two columns from the original file.\r\n",
    "# Therefore, Verfifications fails."
   ],
   "metadata": {}
  },
  {
   "cell_type": "markdown",
   "source": [
    "\r\n",
    "# Thanks for taking the time to check out my project :)"
   ],
   "metadata": {}
  }
 ],
 "metadata": {
  "orig_nbformat": 4,
  "language_info": {
   "name": "python",
   "version": "3.9.6",
   "mimetype": "text/x-python",
   "codemirror_mode": {
    "name": "ipython",
    "version": 3
   },
   "pygments_lexer": "ipython3",
   "nbconvert_exporter": "python",
   "file_extension": ".py"
  },
  "kernelspec": {
   "name": "python3",
   "display_name": "Python 3.9.6 64-bit"
  },
  "interpreter": {
   "hash": "fad349bc2091ea79e990c0168c75f5798d7695cee9a706e492a9dde48f013484"
  }
 },
 "nbformat": 4,
 "nbformat_minor": 2
}